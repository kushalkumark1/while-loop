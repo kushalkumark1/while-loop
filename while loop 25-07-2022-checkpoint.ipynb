{
 "cells": [
  {
   "cell_type": "code",
   "execution_count": 5,
   "id": "17e69d10",
   "metadata": {},
   "outputs": [
    {
     "name": "stdout",
     "output_type": "stream",
     "text": [
      "A,B,C,D,E"
     ]
    }
   ],
   "source": [
    "x=\"a,b,c,d,e\"\n",
    "z=0\n",
    "\n",
    "while z<len(x):\n",
    "    if z%2==0:\n",
    "        print(x[z].upper(),end=\"\")\n",
    "    else:\n",
    "        print(x[z],end=\"\")\n",
    "    z=z+1\n",
    "    "
   ]
  },
  {
   "cell_type": "code",
   "execution_count": 1,
   "id": "3385bf8e",
   "metadata": {},
   "outputs": [
    {
     "name": "stdout",
     "output_type": "stream",
     "text": [
      "<class 'str'>\n",
      "<class 'float'>\n",
      "<class 'int'>\n",
      "<class 'str'>\n",
      "<class 'complex'>\n"
     ]
    }
   ],
   "source": [
    "x=(\"a\",1.2,322,\"abc\",1+2j)\n",
    "y=0\n",
    "while y<len(x):\n",
    "    print(type(x[y]))\n",
    "    y=y+1"
   ]
  },
  {
   "cell_type": "code",
   "execution_count": 1,
   "id": "a4dfdef5",
   "metadata": {},
   "outputs": [
    {
     "name": "stdout",
     "output_type": "stream",
     "text": [
      "abcde\n",
      "2+4+5+8= 10\n"
     ]
    }
   ],
   "source": [
    "a=(\"a\",\"b\",1,\"c\",2,3,\"d\",\"e\",4)\n",
    "b=len(a)\n",
    "c=0\n",
    "e=0\n",
    "while c<b:\n",
    "    d=type(a[c])\n",
    "    if d==int:\n",
    "        e=e+a[c]\n",
    "    else:\n",
    "        print(a[c],end=\"\")\n",
    "    c=c+1\n",
    "print(\"\\n2+4+5+8=\",e)"
   ]
  },
  {
   "cell_type": "code",
   "execution_count": 2,
   "id": "616c8b34",
   "metadata": {},
   "outputs": [
    {
     "name": "stdout",
     "output_type": "stream",
     "text": [
      "abcde\n",
      " 1+2+3+4= 10\n"
     ]
    }
   ],
   "source": [
    "a=(\"a\",\"b\",1,\"c\",2,3,\"d\",\"e\",4)\n",
    "b=len(a)\n",
    "c=0\n",
    "e=0\n",
    "while c<b:\n",
    "    d=type(a[c])\n",
    "    if d==int:\n",
    "        e=e+a[c]\n",
    "    else:\n",
    "        print(a[c],end=\"\")\n",
    "    c=c+1\n",
    "print(\"\\n 1+2+3+4=\",e)"
   ]
  },
  {
   "cell_type": "code",
   "execution_count": 3,
   "id": "fd6ee566",
   "metadata": {},
   "outputs": [
    {
     "name": "stdout",
     "output_type": "stream",
     "text": [
      "110\n"
     ]
    }
   ],
   "source": [
    "n=2\n",
    "s=0\n",
    "while n<=20:\n",
    "    s=s+n\n",
    "    n=n+2\n",
    "print(s)"
   ]
  },
  {
   "cell_type": "code",
   "execution_count": 9,
   "id": "3f22b5f1",
   "metadata": {},
   "outputs": [
    {
     "name": "stdout",
     "output_type": "stream",
     "text": [
      "[1, 2, 3]\n",
      "['a', 'b', 'c', 'd', 'e', 'f']\n"
     ]
    }
   ],
   "source": [
    "x=\"abcdef123\"\n",
    "n=[]\n",
    "c=[]\n",
    "b=len(x)\n",
    "a=0\n",
    "while a<b:\n",
    "    if x[a].isdigit():\n",
    "        n.append(int(x[a]))\n",
    "    else:\n",
    "        c.append(x[a])\n",
    "    a=a+1\n",
    "print(n)\n",
    "print(c)"
   ]
  },
  {
   "cell_type": "code",
   "execution_count": null,
   "id": "1fb35f75",
   "metadata": {},
   "outputs": [],
   "source": [
    "x=\"a\"\n",
    "while x="
   ]
  }
 ],
 "metadata": {
  "kernelspec": {
   "display_name": "Python 3 (ipykernel)",
   "language": "python",
   "name": "python3"
  },
  "language_info": {
   "codemirror_mode": {
    "name": "ipython",
    "version": 3
   },
   "file_extension": ".py",
   "mimetype": "text/x-python",
   "name": "python",
   "nbconvert_exporter": "python",
   "pygments_lexer": "ipython3",
   "version": "3.9.12"
  }
 },
 "nbformat": 4,
 "nbformat_minor": 5
}
